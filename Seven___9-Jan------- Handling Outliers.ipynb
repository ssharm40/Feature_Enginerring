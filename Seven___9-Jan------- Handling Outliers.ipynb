{
 "cells": [
  {
   "cell_type": "markdown",
   "id": "5591c588",
   "metadata": {},
   "source": [
    "# Handling Outliers and what is the impact of outliers in ML"
   ]
  },
  {
   "cell_type": "markdown",
   "id": "8e13c6c6",
   "metadata": {},
   "source": [
    "Ans: \n",
    "    For handling outliwe,first of all we should know that we need to remove the outlier or we need to increase \n",
    "    the weight of outlier(bcoz some outliers are more important)\n",
    "    \n",
    "    As we have data of two type- one is Gausssian and 2nd one is Non-Gaussian so we have tech for both\n",
    "    1) For Gaussian column- we use 3*std deviation technique and calcualte the lower bonudaries and upper boundaries with \n",
    "    below formula-\n",
    "    lower_boundary= df.col_name.mean() - 3* df.col_name.std()\n",
    "    upper_boundary= df.col_name.mean() + 3* df.col_name.std()\n",
    "    \n",
    "    2) Non- Gaussian column- Now we have to work with IQR(Inter Quantile Range)\n",
    "            First we found our the IQR(diff of 75th percentile - 25th percentile)\n",
    "            IQR= df.col_name.percentile(.75)- df.col_name.percentile(.25)\n",
    "            \n",
    "            Now calculate lower_bridge and upper_bridge(it can be 3 or 1.5 as perrequirements)\n",
    "            lower_bridge= df['col_name'].quantile(.25)-(IQR * 3)\n",
    "            upper_bridge= df['col_name'].quantile(.75)+(IQR * 3)\n",
    "    "
   ]
  },
  {
   "cell_type": "code",
   "execution_count": 1,
   "id": "1d61aa35",
   "metadata": {},
   "outputs": [],
   "source": [
    "import pandas as pd\n",
    "import numpy as np"
   ]
  },
  {
   "cell_type": "markdown",
   "id": "b0a22e0d",
   "metadata": {},
   "source": [
    "During managing outliers we have to take care of many things.\n",
    "\n",
    "Exp-1 Like yesterday in 5_jan python file we have solved a problem of credit card fraud detection so there is definitely less no of\n",
    "user are which are fraud so don't think that they are your outlier.\n",
    "\n",
    "Exp2- Suppose you have a medical data where on every 500 patience one pateince have cancer so normally this also look like a\n",
    "outlier but it's not. \n",
    "\n",
    "\n",
    "**Should Outliers be remove?**:\n",
    "It's depend on dataset, or what problem we are solving, even sometime(like credit card fraud detection) we give extra important to outlier\n",
    "\n",
    "Exp- For titanic Dataset should we remove the outlier or not?\n",
    "So we should remove it.\n",
    "\n",
    "Exp- For credit Card detection :\n",
    "No, we can't remove it.\n",
    "\n",
    "Exp- Sales prediction system :\n",
    "Keeps \n",
    "\n"
   ]
  },
  {
   "cell_type": "code",
   "execution_count": null,
   "id": "4adb0e82",
   "metadata": {},
   "outputs": [],
   "source": []
  },
  {
   "cell_type": "markdown",
   "id": "d3674101",
   "metadata": {},
   "source": [
    "Which Machine Learning algo are sensitive to outliers? \n",
    "\n",
    "1) Naive Bayes Classifier----------------------------  Not sensitive to outlier\n",
    "2) SVM-----------------------------------------------  Not   \n",
    "3) Linear Regression --------------------------------  Yes, it's  sensitive\n",
    "4) Logistic Regression-------------------------------  Yes\n",
    "5) Decision tree classifier or regressor ------------  Not\n",
    "6) Ensemble(RF, XGBoost, GB) ------------------------  Not \n",
    "7) KNN ----------------------------------------------  Not\n",
    "8) Kmeans -------------------------------------------  Yes\n",
    "9) Hierarchical -------------------------------------  Yes\n",
    "10) PCA ---------------------------------------------  Yes\n",
    "11) Neural Network-----------------------------------  Yes \n",
    "    \n",
    "    "
   ]
  },
  {
   "cell_type": "code",
   "execution_count": null,
   "id": "5cc8e9c1",
   "metadata": {},
   "outputs": [],
   "source": []
  },
  {
   "cell_type": "code",
   "execution_count": 3,
   "id": "46ff766b",
   "metadata": {},
   "outputs": [
    {
     "data": {
      "text/html": [
       "<div>\n",
       "<style scoped>\n",
       "    .dataframe tbody tr th:only-of-type {\n",
       "        vertical-align: middle;\n",
       "    }\n",
       "\n",
       "    .dataframe tbody tr th {\n",
       "        vertical-align: top;\n",
       "    }\n",
       "\n",
       "    .dataframe thead th {\n",
       "        text-align: right;\n",
       "    }\n",
       "</style>\n",
       "<table border=\"1\" class=\"dataframe\">\n",
       "  <thead>\n",
       "    <tr style=\"text-align: right;\">\n",
       "      <th></th>\n",
       "      <th>PassengerId</th>\n",
       "      <th>Survived</th>\n",
       "      <th>Pclass</th>\n",
       "      <th>Name</th>\n",
       "      <th>Sex</th>\n",
       "      <th>Age</th>\n",
       "      <th>SibSp</th>\n",
       "      <th>Parch</th>\n",
       "      <th>Ticket</th>\n",
       "      <th>Fare</th>\n",
       "      <th>Cabin</th>\n",
       "      <th>Embarked</th>\n",
       "    </tr>\n",
       "  </thead>\n",
       "  <tbody>\n",
       "    <tr>\n",
       "      <th>0</th>\n",
       "      <td>1</td>\n",
       "      <td>0</td>\n",
       "      <td>3</td>\n",
       "      <td>Braund, Mr. Owen Harris</td>\n",
       "      <td>male</td>\n",
       "      <td>22.0</td>\n",
       "      <td>1</td>\n",
       "      <td>0</td>\n",
       "      <td>A/5 21171</td>\n",
       "      <td>7.2500</td>\n",
       "      <td>NaN</td>\n",
       "      <td>S</td>\n",
       "    </tr>\n",
       "    <tr>\n",
       "      <th>1</th>\n",
       "      <td>2</td>\n",
       "      <td>1</td>\n",
       "      <td>1</td>\n",
       "      <td>Cumings, Mrs. John Bradley (Florence Briggs Th...</td>\n",
       "      <td>female</td>\n",
       "      <td>38.0</td>\n",
       "      <td>1</td>\n",
       "      <td>0</td>\n",
       "      <td>PC 17599</td>\n",
       "      <td>71.2833</td>\n",
       "      <td>C85</td>\n",
       "      <td>C</td>\n",
       "    </tr>\n",
       "    <tr>\n",
       "      <th>2</th>\n",
       "      <td>3</td>\n",
       "      <td>1</td>\n",
       "      <td>3</td>\n",
       "      <td>Heikkinen, Miss. Laina</td>\n",
       "      <td>female</td>\n",
       "      <td>26.0</td>\n",
       "      <td>0</td>\n",
       "      <td>0</td>\n",
       "      <td>STON/O2. 3101282</td>\n",
       "      <td>7.9250</td>\n",
       "      <td>NaN</td>\n",
       "      <td>S</td>\n",
       "    </tr>\n",
       "    <tr>\n",
       "      <th>3</th>\n",
       "      <td>4</td>\n",
       "      <td>1</td>\n",
       "      <td>1</td>\n",
       "      <td>Futrelle, Mrs. Jacques Heath (Lily May Peel)</td>\n",
       "      <td>female</td>\n",
       "      <td>35.0</td>\n",
       "      <td>1</td>\n",
       "      <td>0</td>\n",
       "      <td>113803</td>\n",
       "      <td>53.1000</td>\n",
       "      <td>C123</td>\n",
       "      <td>S</td>\n",
       "    </tr>\n",
       "    <tr>\n",
       "      <th>4</th>\n",
       "      <td>5</td>\n",
       "      <td>0</td>\n",
       "      <td>3</td>\n",
       "      <td>Allen, Mr. William Henry</td>\n",
       "      <td>male</td>\n",
       "      <td>35.0</td>\n",
       "      <td>0</td>\n",
       "      <td>0</td>\n",
       "      <td>373450</td>\n",
       "      <td>8.0500</td>\n",
       "      <td>NaN</td>\n",
       "      <td>S</td>\n",
       "    </tr>\n",
       "  </tbody>\n",
       "</table>\n",
       "</div>"
      ],
      "text/plain": [
       "   PassengerId  Survived  Pclass  \\\n",
       "0            1         0       3   \n",
       "1            2         1       1   \n",
       "2            3         1       3   \n",
       "3            4         1       1   \n",
       "4            5         0       3   \n",
       "\n",
       "                                                Name     Sex   Age  SibSp  \\\n",
       "0                            Braund, Mr. Owen Harris    male  22.0      1   \n",
       "1  Cumings, Mrs. John Bradley (Florence Briggs Th...  female  38.0      1   \n",
       "2                             Heikkinen, Miss. Laina  female  26.0      0   \n",
       "3       Futrelle, Mrs. Jacques Heath (Lily May Peel)  female  35.0      1   \n",
       "4                           Allen, Mr. William Henry    male  35.0      0   \n",
       "\n",
       "   Parch            Ticket     Fare Cabin Embarked  \n",
       "0      0         A/5 21171   7.2500   NaN        S  \n",
       "1      0          PC 17599  71.2833   C85        C  \n",
       "2      0  STON/O2. 3101282   7.9250   NaN        S  \n",
       "3      0            113803  53.1000  C123        S  \n",
       "4      0            373450   8.0500   NaN        S  "
      ]
     },
     "execution_count": 3,
     "metadata": {},
     "output_type": "execute_result"
    }
   ],
   "source": [
    "df=pd.read_csv('titanic.csv')\n",
    "df.head()"
   ]
  },
  {
   "cell_type": "code",
   "execution_count": 4,
   "id": "42e998cd",
   "metadata": {},
   "outputs": [
    {
     "data": {
      "text/plain": [
       "177"
      ]
     },
     "execution_count": 4,
     "metadata": {},
     "output_type": "execute_result"
    }
   ],
   "source": [
    "df['Age'].isnull().sum()"
   ]
  },
  {
   "cell_type": "code",
   "execution_count": 5,
   "id": "2294eb23",
   "metadata": {},
   "outputs": [],
   "source": [
    "import seaborn as sns"
   ]
  },
  {
   "cell_type": "code",
   "execution_count": 8,
   "id": "1d7d1aba",
   "metadata": {},
   "outputs": [
    {
     "name": "stderr",
     "output_type": "stream",
     "text": [
      "c:\\users\\sairam\\appdata\\local\\programs\\python\\python37\\lib\\site-packages\\seaborn\\distributions.py:2557: FutureWarning: `distplot` is a deprecated function and will be removed in a future version. Please adapt your code to use either `displot` (a figure-level function with similar flexibility) or `histplot` (an axes-level function for histograms).\n",
      "  warnings.warn(msg, FutureWarning)\n"
     ]
    },
    {
     "data": {
      "text/plain": [
       "<AxesSubplot:xlabel='Age', ylabel='Density'>"
      ]
     },
     "execution_count": 8,
     "metadata": {},
     "output_type": "execute_result"
    },
    {
     "data": {
      "image/png": "[encoded data removed]",
      "text/plain": [
       "<Figure size 432x288 with 1 Axes>"
      ]
     },
     "metadata": {
      "needs_background": "light"
     },
     "output_type": "display_data"
    }
   ],
   "source": [
    "sns.distplot(df['Age'].dropna())\n",
    "\n",
    "# So we can see from below graph that it's normally/gaussian distributed"
   ]
  },
  {
   "cell_type": "code",
   "execution_count": 10,
   "id": "4f0eceaf",
   "metadata": {},
   "outputs": [
    {
     "name": "stderr",
     "output_type": "stream",
     "text": [
      "c:\\users\\sairam\\appdata\\local\\programs\\python\\python37\\lib\\site-packages\\seaborn\\distributions.py:2557: FutureWarning: `distplot` is a deprecated function and will be removed in a future version. Please adapt your code to use either `displot` (a figure-level function with similar flexibility) or `histplot` (an axes-level function for histograms).\n",
      "  warnings.warn(msg, FutureWarning)\n"
     ]
    },
    {
     "data": {
      "text/plain": [
       "<AxesSubplot:xlabel='Age', ylabel='Density'>"
      ]
     },
     "execution_count": 10,
     "metadata": {},
     "output_type": "execute_result"
    },
    {
     "data": {
      "image/png": "[encoded data removed]",
      "text/plain": [
       "<Figure size 432x288 with 1 Axes>"
      ]
     },
     "metadata": {
      "needs_background": "light"
     },
     "output_type": "display_data"
    }
   ],
   "source": [
    "# Let's try to make outlier\n",
    "\n",
    "sns.distplot(df['Age'].fillna(100))\n",
    "\n",
    "# So now it become non gaussian dataset(we do this for practice purpose only)\n"
   ]
  },
  {
   "cell_type": "code",
   "execution_count": null,
   "id": "0aadd245",
   "metadata": {},
   "outputs": [],
   "source": []
  },
  {
   "cell_type": "code",
   "execution_count": 11,
   "id": "6f094c76",
   "metadata": {},
   "outputs": [
    {
     "data": {
      "text/plain": [
       "<AxesSubplot:>"
      ]
     },
     "execution_count": 11,
     "metadata": {},
     "output_type": "execute_result"
    },
    {
     "data": {
      "image/png": "[encoded data removed]",
      "text/plain": [
       "<Figure size 432x288 with 1 Axes>"
      ]
     },
     "metadata": {
      "needs_background": "light"
     },
     "output_type": "display_data"
    }
   ],
   "source": [
    "# Let try for hist plot\n",
    "\n",
    "df.Age.hist(bins=20)"
   ]
  },
  {
   "cell_type": "code",
   "execution_count": 13,
   "id": "7959806e",
   "metadata": {},
   "outputs": [
    {
     "data": {
      "text/plain": [
       "Text(0, 0.5, 'No of passanger')"
      ]
     },
     "execution_count": 13,
     "metadata": {},
     "output_type": "execute_result"
    },
    {
     "data": {
      "image/png": "[encoded data removed]",
      "text/plain": [
       "<Figure size 432x288 with 1 Axes>"
      ]
     },
     "metadata": {
      "needs_background": "light"
     },
     "output_type": "display_data"
    }
   ],
   "source": [
    "figure= df.Age.hist(bins=50)\n",
    "figure.set_title('Age')\n",
    "figure.set_xlabel('Age')\n",
    "figure.set_ylabel('No of passanger')\n",
    "\n",
    "\n",
    "# Gaussian Distribued"
   ]
  },
  {
   "cell_type": "code",
   "execution_count": 15,
   "id": "f478cef6",
   "metadata": {},
   "outputs": [
    {
     "data": {
      "image/png": "[encoded data removed]",
      "text/plain": [
       "<Figure size 432x288 with 1 Axes>"
      ]
     },
     "metadata": {
      "needs_background": "light"
     },
     "output_type": "display_data"
    }
   ],
   "source": [
    "# To see ouliers we use boxplot\n",
    "\n",
    "figure= df.boxplot('Age')\n",
    "\n",
    "# So above dot are outliers"
   ]
  },
  {
   "cell_type": "code",
   "execution_count": 17,
   "id": "f298d1e1",
   "metadata": {},
   "outputs": [
    {
     "data": {
      "text/plain": [
       "count    714.000000\n",
       "mean      29.699118\n",
       "std       14.526497\n",
       "min        0.420000\n",
       "25%       20.125000\n",
       "50%       28.000000\n",
       "75%       38.000000\n",
       "max       80.000000\n",
       "Name: Age, dtype: float64"
      ]
     },
     "execution_count": 17,
     "metadata": {},
     "output_type": "execute_result"
    }
   ],
   "source": [
    "df.Age.describe()"
   ]
  },
  {
   "cell_type": "code",
   "execution_count": null,
   "id": "03b6a65f",
   "metadata": {},
   "outputs": [],
   "source": [
    "# Below is technique for Gaussian Distribution----------- We use 3- std() technique"
   ]
  },
  {
   "cell_type": "code",
   "execution_count": 18,
   "id": "a6d9be98",
   "metadata": {},
   "outputs": [],
   "source": [
    "# Assuming Age follows the Gaussian Distribution\n",
    "# we will calculate boundaries which will differentiate the data\n",
    "\n",
    "#3rd std to the right\n",
    "upper_boundary= df['Age'].mean()+ 3*df['Age'].std()\n",
    "\n",
    "#3rdstd to the left\n",
    "lower_boundary= df['Age'].mean()- 3*df['Age'].std()\n",
    "\n"
   ]
  },
  {
   "cell_type": "code",
   "execution_count": 20,
   "id": "f8065b19",
   "metadata": {},
   "outputs": [
    {
     "name": "stdout",
     "output_type": "stream",
     "text": [
      "73.27860964406094 -13.880374349943303 29.69911764705882\n"
     ]
    }
   ],
   "source": [
    "# So here we have upper boundary as 73(max value was 80 so 73 to 80 values are outlier)\n",
    "\n",
    "# For lower- -13, as age can't be negative so will consider this as 0\n",
    "\n",
    "print(upper_boundary, lower_boundary, df.Age.mean())\n",
    "\n",
    "# This much is only require for Gaussian Distribution, we need to apply this tech always as it's very effective\n"
   ]
  },
  {
   "cell_type": "code",
   "execution_count": 21,
   "id": "9bc963f5",
   "metadata": {},
   "outputs": [
    {
     "data": {
      "text/plain": [
       "17.875"
      ]
     },
     "execution_count": 21,
     "metadata": {},
     "output_type": "execute_result"
    }
   ],
   "source": [
    "# The below is usefull only in case of non-gaussian, we are just checking for age column(not required as it it gaussian)\n",
    "\n",
    "# Let's compute the InterQuantile Range to calculate the boundaries---- duff b/w the 25th percentile and 75 percentile\n",
    "\n",
    "IQR =df.Age.quantile(.75)- df.Age.quantile(.25)\n",
    "IQR\n"
   ]
  },
  {
   "cell_type": "code",
   "execution_count": 22,
   "id": "bc26d15e",
   "metadata": {},
   "outputs": [
    {
     "name": "stdout",
     "output_type": "stream",
     "text": [
      "-6.6875 64.8125\n"
     ]
    }
   ],
   "source": [
    "# Now we have to calcualte the lower and upper bridge\n",
    "\n",
    "\n",
    "lower_bridge= df['Age'].quantile(.25)-(IQR * 1.5)\n",
    "\n",
    "upper_bridge= df['Age'].quantile(.75)+(IQR * 1.5)\n",
    "\n",
    "print(lower_bridge, upper_bridge)\n"
   ]
  },
  {
   "cell_type": "code",
   "execution_count": 23,
   "id": "9f9701a5",
   "metadata": {},
   "outputs": [
    {
     "name": "stdout",
     "output_type": "stream",
     "text": [
      "-33.5 91.625\n"
     ]
    }
   ],
   "source": [
    "# Suppose you want's to calculate the Extreme boundary\n",
    "\n",
    "lower_bridge= df['Age'].quantile(.25)-(IQR * 3)\n",
    "\n",
    "upper_bridge= df['Age'].quantile(.75)+(IQR * 3)\n",
    "\n",
    "print(lower_bridge, upper_bridge)"
   ]
  },
  {
   "cell_type": "code",
   "execution_count": null,
   "id": "d14609d5",
   "metadata": {},
   "outputs": [],
   "source": []
  },
  {
   "cell_type": "code",
   "execution_count": null,
   "id": "6dcf547f",
   "metadata": {},
   "outputs": [],
   "source": [
    "# Let's check fornon-gaussian feature\n",
    "\n"
   ]
  },
  {
   "cell_type": "code",
   "execution_count": 24,
   "id": "bae53cce",
   "metadata": {},
   "outputs": [
    {
     "data": {
      "image/png": "[encoded data removed]",
      "text/plain": [
       "<Figure size 432x288 with 1 Axes>"
      ]
     },
     "metadata": {
      "needs_background": "light"
     },
     "output_type": "display_data"
    }
   ],
   "source": [
    "# To see ouliers we use boxplot\n",
    "\n",
    "figure= df.boxplot('Fare')\n",
    "\n",
    "# Multiple outlier"
   ]
  },
  {
   "cell_type": "code",
   "execution_count": 25,
   "id": "25376fd4",
   "metadata": {},
   "outputs": [
    {
     "name": "stderr",
     "output_type": "stream",
     "text": [
      "c:\\users\\sairam\\appdata\\local\\programs\\python\\python37\\lib\\site-packages\\seaborn\\distributions.py:2557: FutureWarning: `distplot` is a deprecated function and will be removed in a future version. Please adapt your code to use either `displot` (a figure-level function with similar flexibility) or `histplot` (an axes-level function for histograms).\n",
      "  warnings.warn(msg, FutureWarning)\n"
     ]
    },
    {
     "data": {
      "text/plain": [
       "<AxesSubplot:xlabel='Fare', ylabel='Density'>"
      ]
     },
     "execution_count": 25,
     "metadata": {},
     "output_type": "execute_result"
    },
    {
     "data": {
      "image/png": "[encoded data removed]",
      "text/plain": [
       "<Figure size 432x288 with 1 Axes>"
      ]
     },
     "metadata": {
      "needs_background": "light"
     },
     "output_type": "display_data"
    }
   ],
   "source": [
    "sns.distplot(df.Fare)\n",
    "\n",
    "# Rightly skewed"
   ]
  },
  {
   "cell_type": "code",
   "execution_count": 26,
   "id": "0f2520a7",
   "metadata": {},
   "outputs": [
    {
     "data": {
      "text/plain": [
       "Text(0, 0.5, 'No of passanger')"
      ]
     },
     "execution_count": 26,
     "metadata": {},
     "output_type": "execute_result"
    },
    {
     "data": {
      "image/png": "[encoded data removed]",
      "text/plain": [
       "<Figure size 432x288 with 1 Axes>"
      ]
     },
     "metadata": {
      "needs_background": "light"
     },
     "output_type": "display_data"
    }
   ],
   "source": [
    "figure= df.Fare.hist(bins=50)\n",
    "figure.set_title('Fare')\n",
    "figure.set_xlabel('Fare')\n",
    "figure.set_ylabel('No of passanger')\n",
    "\n",
    "\n",
    "# Non-Gaussian Distribued"
   ]
  },
  {
   "cell_type": "code",
   "execution_count": 27,
   "id": "524e4faa",
   "metadata": {},
   "outputs": [
    {
     "data": {
      "text/plain": [
       "count    891.000000\n",
       "mean      32.204208\n",
       "std       49.693429\n",
       "min        0.000000\n",
       "25%        7.910400\n",
       "50%       14.454200\n",
       "75%       31.000000\n",
       "max      512.329200\n",
       "Name: Fare, dtype: float64"
      ]
     },
     "execution_count": 27,
     "metadata": {},
     "output_type": "execute_result"
    }
   ],
   "source": [
    "df.Fare.describe()"
   ]
  },
  {
   "cell_type": "code",
   "execution_count": 28,
   "id": "b699ce79",
   "metadata": {},
   "outputs": [
    {
     "data": {
      "text/plain": [
       "23.0896"
      ]
     },
     "execution_count": 28,
     "metadata": {},
     "output_type": "execute_result"
    }
   ],
   "source": [
    "IQR =df.Fare.quantile(.75)- df.Fare.quantile(.25)\n",
    "IQR\n"
   ]
  },
  {
   "cell_type": "code",
   "execution_count": 30,
   "id": "6622e39b",
   "metadata": {},
   "outputs": [
    {
     "name": "stdout",
     "output_type": "stream",
     "text": [
      "-26.724 65.6344\n"
     ]
    }
   ],
   "source": [
    "\n",
    "\n",
    "lower_bridge= df['Fare'].quantile(.25)-(IQR * 1.5)\n",
    "\n",
    "upper_bridge= df['Fare'].quantile(.75)+(IQR * 1.5)\n",
    "\n",
    "print(lower_bridge, upper_bridge)"
   ]
  },
  {
   "cell_type": "code",
   "execution_count": 31,
   "id": "0f68e780",
   "metadata": {},
   "outputs": [
    {
     "name": "stdout",
     "output_type": "stream",
     "text": [
      "-61.358399999999996 100.2688\n"
     ]
    }
   ],
   "source": [
    "# Suppose you want's to calculate the Extreme boundary(mostly we use this)\n",
    "\n",
    "# As data is extremely outlier we sill use it *3 means 100\n",
    "\n",
    "# Don't use -61, as fare can't be negative\n",
    "\n",
    "lower_bridge= df['Fare'].quantile(.25)-(IQR * 3)\n",
    "\n",
    "upper_bridge= df['Fare'].quantile(.75)+(IQR * 3)\n",
    "\n",
    "print(lower_bridge, upper_bridge)"
   ]
  },
  {
   "cell_type": "code",
   "execution_count": 45,
   "id": "d231cd87",
   "metadata": {},
   "outputs": [],
   "source": [
    "data=df.copy()"
   ]
  },
  {
   "cell_type": "code",
   "execution_count": null,
   "id": "c3ae77ee",
   "metadata": {},
   "outputs": [],
   "source": [
    "# Now using the outlier\n",
    "\n",
    "# For Age column------ 73, -13"
   ]
  },
  {
   "cell_type": "code",
   "execution_count": 46,
   "id": "176614f9",
   "metadata": {},
   "outputs": [],
   "source": [
    "data.loc[data['Age']>=73, 'Age']=73\n",
    "\n",
    "# upper outlier has been dealt"
   ]
  },
  {
   "cell_type": "code",
   "execution_count": 56,
   "id": "424a1524",
   "metadata": {},
   "outputs": [
    {
     "data": {
      "text/plain": [
       "Text(0, 0.5, 'No of passanger')"
      ]
     },
     "execution_count": 56,
     "metadata": {},
     "output_type": "execute_result"
    },
    {
     "data": {
      "image/png": "[encoded data removed]",
      "text/plain": [
       "<Figure size 432x288 with 1 Axes>"
      ]
     },
     "metadata": {
      "needs_background": "light"
     },
     "output_type": "display_data"
    }
   ],
   "source": [
    "figure= data.Age.hist(bins=50)\n",
    "figure.set_title('Age')\n",
    "figure.set_xlabel('Age')\n",
    "figure.set_ylabel('No of passanger')"
   ]
  },
  {
   "cell_type": "code",
   "execution_count": 48,
   "id": "71a6098d",
   "metadata": {},
   "outputs": [],
   "source": [
    "# Now applying for fare\n",
    "\n",
    "data.loc[data['Fare']>=100, 'Fare']=100"
   ]
  },
  {
   "cell_type": "code",
   "execution_count": 55,
   "id": "b57a59a3",
   "metadata": {},
   "outputs": [
    {
     "data": {
      "text/plain": [
       "Text(0, 0.5, 'No of passanger')"
      ]
     },
     "execution_count": 55,
     "metadata": {},
     "output_type": "execute_result"
    },
    {
     "data": {
      "image/png": "[encoded data removed]",
      "text/plain": [
       "<Figure size 432x288 with 1 Axes>"
      ]
     },
     "metadata": {
      "needs_background": "light"
     },
     "output_type": "display_data"
    }
   ],
   "source": [
    "figure= data.Fare.hist(bins=50)\n",
    "figure.set_title('Age')\n",
    "figure.set_xlabel('Age')\n",
    "figure.set_ylabel('No of passanger')"
   ]
  },
  {
   "cell_type": "code",
   "execution_count": 77,
   "id": "f0e4d180",
   "metadata": {},
   "outputs": [],
   "source": [
    "from sklearn.model_selection import train_test_split\n",
    "\n",
    "x_train, x_test, y_train, y_test= train_test_split(data[['Age','Fare']].fillna(0), data['Survived'], test_size=0.3)"
   ]
  },
  {
   "cell_type": "code",
   "execution_count": 73,
   "id": "9ab91c1b",
   "metadata": {},
   "outputs": [
    {
     "data": {
      "text/plain": [
       "(623, 2)"
      ]
     },
     "execution_count": 73,
     "metadata": {},
     "output_type": "execute_result"
    }
   ],
   "source": [
    "x_train.shape"
   ]
  },
  {
   "cell_type": "code",
   "execution_count": 78,
   "id": "78a2160d",
   "metadata": {},
   "outputs": [
    {
     "name": "stdout",
     "output_type": "stream",
     "text": [
      "Accuracy Score 0.6604477611940298\n",
      "ROC_auc_score 0.6902507603144545\n"
     ]
    }
   ],
   "source": [
    "## Logistic regression\n",
    "\n",
    "from sklearn.linear_model import LogisticRegression\n",
    "\n",
    "\n",
    "\n",
    "classifier=LogisticRegression()\n",
    "classifier.fit(x_train, y_train)\n",
    "\n",
    "y_pred=classifier.predict(x_test)\n",
    "y_pred1= classifier.predict_proba(x_test)\n",
    "\n",
    "\n",
    "\n",
    "from sklearn.metrics import accuracy_score, roc_auc_score\n",
    "\n",
    "print('Accuracy Score {}'.format(accuracy_score(y_test, y_pred)))\n",
    "print('ROC_auc_score {}'.format(roc_auc_score(y_test, y_pred1[:,1])))"
   ]
  },
  {
   "cell_type": "code",
   "execution_count": 79,
   "id": "9a320a7f",
   "metadata": {},
   "outputs": [
    {
     "name": "stdout",
     "output_type": "stream",
     "text": [
      "Accuracy Score 0.6343283582089553\n",
      "ROC_auc_score 0.6942101337005795\n"
     ]
    }
   ],
   "source": [
    "## Random Forest\n",
    "\n",
    "from sklearn.ensemble import RandomForestClassifier\n",
    "\n",
    "\n",
    "\n",
    "classifier=RandomForestClassifier()\n",
    "classifier.fit(x_train, y_train)\n",
    "\n",
    "y_pred=classifier.predict(x_test)\n",
    "y_pred1= classifier.predict_proba(x_test)\n",
    "\n",
    "\n",
    "\n",
    "from sklearn.metrics import accuracy_score, roc_auc_score\n",
    "\n",
    "print('Accuracy Score {}'.format(accuracy_score(y_test, y_pred)))\n",
    "print('ROC_auc_score {}'.format(roc_auc_score(y_test, y_pred1[:,1])))\n"
   ]
  },
  {
   "cell_type": "code",
   "execution_count": null,
   "id": "1ffb1540",
   "metadata": {},
   "outputs": [],
   "source": []
  },
  {
   "cell_type": "code",
   "execution_count": null,
   "id": "64f655af",
   "metadata": {},
   "outputs": [],
   "source": []
  },
  {
   "cell_type": "code",
   "execution_count": null,
   "id": "ff8a053b",
   "metadata": {},
   "outputs": [],
   "source": []
  },
  {
   "cell_type": "code",
   "execution_count": null,
   "id": "2a0edc93",
   "metadata": {},
   "outputs": [],
   "source": []
  }
 ],
 "metadata": {
  "kernelspec": {
   "display_name": "Python 3",
   "language": "python",
   "name": "python3"
  },
  "language_info": {
   "codemirror_mode": {
    "name": "ipython",
    "version": 3
   },
   "file_extension": ".py",
   "mimetype": "text/x-python",
   "name": "python",
   "nbconvert_exporter": "python",
   "pygments_lexer": "ipython3",
   "version": "3.7.3"
  }
 },
 "nbformat": 4,
 "nbformat_minor": 5
}
