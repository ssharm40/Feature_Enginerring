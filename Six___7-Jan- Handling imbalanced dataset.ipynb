{
 "cells": [
  {
   "cell_type": "markdown",
   "id": "c36ed038",
   "metadata": {},
   "source": [
    "## Handling Imbalanced dataset\n",
    "\n",
    "For this we have 3 mail technique, we discuss these one by one\n",
    "\n",
    "1) Under Sampling\n",
    "2) Over Sampling \n",
    "\n",
    "These tech should apply during model creation\n",
    "\n",
    "\n",
    "\n",
    "**Qua**- How to handle imbalance dataset?\n",
    "\n",
    "First of all as I have tried multiple time that Random forest work really well but there are some special tech to handle imbalanced datase.\n",
    "if we have small dataset then we should try under scalling and vice-versa\n",
    "And main point is this that we have to focus on precison call confusion matrix and all, not on accuracy score\n",
    "\n",
    "\n",
    "\n",
    "\n"
   ]
  },
  {
   "cell_type": "code",
   "execution_count": 1,
   "id": "67fdfbe4",
   "metadata": {},
   "outputs": [],
   "source": [
    "import pandas as pd"
   ]
  },
  {
   "cell_type": "code",
   "execution_count": 2,
   "id": "69ca23d8",
   "metadata": {},
   "outputs": [],
   "source": [
    "df= pd.read_csv('creditcard.csv')"
   ]
  },
  {
   "cell_type": "code",
   "execution_count": 3,
   "id": "a3aa4ea8",
   "metadata": {},
   "outputs": [
    {
     "data": {
      "text/html": [
       "<div>\n",
       "<style scoped>\n",
       "    .dataframe tbody tr th:only-of-type {\n",
       "        vertical-align: middle;\n",
       "    }\n",
       "\n",
       "    .dataframe tbody tr th {\n",
       "        vertical-align: top;\n",
       "    }\n",
       "\n",
       "    .dataframe thead th {\n",
       "        text-align: right;\n",
       "    }\n",
       "</style>\n",
       "<table border=\"1\" class=\"dataframe\">\n",
       "  <thead>\n",
       "    <tr style=\"text-align: right;\">\n",
       "      <th></th>\n",
       "      <th>Time</th>\n",
       "      <th>V1</th>\n",
       "      <th>V2</th>\n",
       "      <th>V3</th>\n",
       "      <th>V4</th>\n",
       "      <th>V5</th>\n",
       "      <th>V6</th>\n",
       "      <th>V7</th>\n",
       "      <th>V8</th>\n",
       "      <th>V9</th>\n",
       "      <th>...</th>\n",
       "      <th>V21</th>\n",
       "      <th>V22</th>\n",
       "      <th>V23</th>\n",
       "      <th>V24</th>\n",
       "      <th>V25</th>\n",
       "      <th>V26</th>\n",
       "      <th>V27</th>\n",
       "      <th>V28</th>\n",
       "      <th>Amount</th>\n",
       "      <th>Class</th>\n",
       "    </tr>\n",
       "  </thead>\n",
       "  <tbody>\n",
       "    <tr>\n",
       "      <th>0</th>\n",
       "      <td>0.0</td>\n",
       "      <td>-1.359807</td>\n",
       "      <td>-0.072781</td>\n",
       "      <td>2.536347</td>\n",
       "      <td>1.378155</td>\n",
       "      <td>-0.338321</td>\n",
       "      <td>0.462388</td>\n",
       "      <td>0.239599</td>\n",
       "      <td>0.098698</td>\n",
       "      <td>0.363787</td>\n",
       "      <td>...</td>\n",
       "      <td>-0.018307</td>\n",
       "      <td>0.277838</td>\n",
       "      <td>-0.110474</td>\n",
       "      <td>0.066928</td>\n",
       "      <td>0.128539</td>\n",
       "      <td>-0.189115</td>\n",
       "      <td>0.133558</td>\n",
       "      <td>-0.021053</td>\n",
       "      <td>149.62</td>\n",
       "      <td>0</td>\n",
       "    </tr>\n",
       "    <tr>\n",
       "      <th>1</th>\n",
       "      <td>0.0</td>\n",
       "      <td>1.191857</td>\n",
       "      <td>0.266151</td>\n",
       "      <td>0.166480</td>\n",
       "      <td>0.448154</td>\n",
       "      <td>0.060018</td>\n",
       "      <td>-0.082361</td>\n",
       "      <td>-0.078803</td>\n",
       "      <td>0.085102</td>\n",
       "      <td>-0.255425</td>\n",
       "      <td>...</td>\n",
       "      <td>-0.225775</td>\n",
       "      <td>-0.638672</td>\n",
       "      <td>0.101288</td>\n",
       "      <td>-0.339846</td>\n",
       "      <td>0.167170</td>\n",
       "      <td>0.125895</td>\n",
       "      <td>-0.008983</td>\n",
       "      <td>0.014724</td>\n",
       "      <td>2.69</td>\n",
       "      <td>0</td>\n",
       "    </tr>\n",
       "    <tr>\n",
       "      <th>2</th>\n",
       "      <td>1.0</td>\n",
       "      <td>-1.358354</td>\n",
       "      <td>-1.340163</td>\n",
       "      <td>1.773209</td>\n",
       "      <td>0.379780</td>\n",
       "      <td>-0.503198</td>\n",
       "      <td>1.800499</td>\n",
       "      <td>0.791461</td>\n",
       "      <td>0.247676</td>\n",
       "      <td>-1.514654</td>\n",
       "      <td>...</td>\n",
       "      <td>0.247998</td>\n",
       "      <td>0.771679</td>\n",
       "      <td>0.909412</td>\n",
       "      <td>-0.689281</td>\n",
       "      <td>-0.327642</td>\n",
       "      <td>-0.139097</td>\n",
       "      <td>-0.055353</td>\n",
       "      <td>-0.059752</td>\n",
       "      <td>378.66</td>\n",
       "      <td>0</td>\n",
       "    </tr>\n",
       "    <tr>\n",
       "      <th>3</th>\n",
       "      <td>1.0</td>\n",
       "      <td>-0.966272</td>\n",
       "      <td>-0.185226</td>\n",
       "      <td>1.792993</td>\n",
       "      <td>-0.863291</td>\n",
       "      <td>-0.010309</td>\n",
       "      <td>1.247203</td>\n",
       "      <td>0.237609</td>\n",
       "      <td>0.377436</td>\n",
       "      <td>-1.387024</td>\n",
       "      <td>...</td>\n",
       "      <td>-0.108300</td>\n",
       "      <td>0.005274</td>\n",
       "      <td>-0.190321</td>\n",
       "      <td>-1.175575</td>\n",
       "      <td>0.647376</td>\n",
       "      <td>-0.221929</td>\n",
       "      <td>0.062723</td>\n",
       "      <td>0.061458</td>\n",
       "      <td>123.50</td>\n",
       "      <td>0</td>\n",
       "    </tr>\n",
       "    <tr>\n",
       "      <th>4</th>\n",
       "      <td>2.0</td>\n",
       "      <td>-1.158233</td>\n",
       "      <td>0.877737</td>\n",
       "      <td>1.548718</td>\n",
       "      <td>0.403034</td>\n",
       "      <td>-0.407193</td>\n",
       "      <td>0.095921</td>\n",
       "      <td>0.592941</td>\n",
       "      <td>-0.270533</td>\n",
       "      <td>0.817739</td>\n",
       "      <td>...</td>\n",
       "      <td>-0.009431</td>\n",
       "      <td>0.798278</td>\n",
       "      <td>-0.137458</td>\n",
       "      <td>0.141267</td>\n",
       "      <td>-0.206010</td>\n",
       "      <td>0.502292</td>\n",
       "      <td>0.219422</td>\n",
       "      <td>0.215153</td>\n",
       "      <td>69.99</td>\n",
       "      <td>0</td>\n",
       "    </tr>\n",
       "  </tbody>\n",
       "</table>\n",
       "<p>5 rows × 31 columns</p>\n",
       "</div>"
      ],
      "text/plain": [
       "   Time        V1        V2        V3        V4        V5        V6        V7  \\\n",
       "0   0.0 -1.359807 -0.072781  2.536347  1.378155 -0.338321  0.462388  0.239599   \n",
       "1   0.0  1.191857  0.266151  0.166480  0.448154  0.060018 -0.082361 -0.078803   \n",
       "2   1.0 -1.358354 -1.340163  1.773209  0.379780 -0.503198  1.800499  0.791461   \n",
       "3   1.0 -0.966272 -0.185226  1.792993 -0.863291 -0.010309  1.247203  0.237609   \n",
       "4   2.0 -1.158233  0.877737  1.548718  0.403034 -0.407193  0.095921  0.592941   \n",
       "\n",
       "         V8        V9  ...       V21       V22       V23       V24       V25  \\\n",
       "0  0.098698  0.363787  ... -0.018307  0.277838 -0.110474  0.066928  0.128539   \n",
       "1  0.085102 -0.255425  ... -0.225775 -0.638672  0.101288 -0.339846  0.167170   \n",
       "2  0.247676 -1.514654  ...  0.247998  0.771679  0.909412 -0.689281 -0.327642   \n",
       "3  0.377436 -1.387024  ... -0.108300  0.005274 -0.190321 -1.175575  0.647376   \n",
       "4 -0.270533  0.817739  ... -0.009431  0.798278 -0.137458  0.141267 -0.206010   \n",
       "\n",
       "        V26       V27       V28  Amount  Class  \n",
       "0 -0.189115  0.133558 -0.021053  149.62      0  \n",
       "1  0.125895 -0.008983  0.014724    2.69      0  \n",
       "2 -0.139097 -0.055353 -0.059752  378.66      0  \n",
       "3 -0.221929  0.062723  0.061458  123.50      0  \n",
       "4  0.502292  0.219422  0.215153   69.99      0  \n",
       "\n",
       "[5 rows x 31 columns]"
      ]
     },
     "execution_count": 3,
     "metadata": {},
     "output_type": "execute_result"
    }
   ],
   "source": [
    "df.head()"
   ]
  },
  {
   "cell_type": "code",
   "execution_count": 4,
   "id": "c170b9a1",
   "metadata": {},
   "outputs": [
    {
     "data": {
      "text/plain": [
       "(284807, 31)"
      ]
     },
     "execution_count": 4,
     "metadata": {},
     "output_type": "execute_result"
    }
   ],
   "source": [
    "df.shape"
   ]
  },
  {
   "cell_type": "code",
   "execution_count": null,
   "id": "6882360f",
   "metadata": {},
   "outputs": [],
   "source": [
    "#How we get to know that it's a Imbalanced dataset?\n",
    "\n",
    "# Class is label here(feature to be detected)\n",
    "\n",
    "# As we can see 0- 2**time and 1 is only 492 times\n",
    "\n",
    "#So it's making the dataset imbalanced\n",
    "\n",
    "df.Class.value_counts()"
   ]
  },
  {
   "cell_type": "code",
   "execution_count": null,
   "id": "ed551c25",
   "metadata": {},
   "outputs": [],
   "source": [
    "# Let's try to apply some algorithm without doing anything\n",
    "\n",
    "# For this kind of dataset we never depend on accuracy, we have to check other things-- precision, recall, and other technique"
   ]
  },
  {
   "cell_type": "code",
   "execution_count": null,
   "id": "369a1199",
   "metadata": {},
   "outputs": [],
   "source": [
    "# Dividing the data in dependent and independent features\n",
    "\n",
    "x= df.drop('Class', axis=1)\n",
    "y=df.Class"
   ]
  },
  {
   "cell_type": "code",
   "execution_count": null,
   "id": "1af31171",
   "metadata": {},
   "outputs": [],
   "source": [
    "# let's apply logistic regression\n",
    "\n",
    "from sklearn.linear_model import LogisticRegression\n",
    "\n",
    "#For imbalanced dataset never check just the accuracy\n",
    "from sklearn.metrics import accuracy_score,confusion_matrix, classification_report\n",
    "\n",
    "#Cross Validation is also use for imbalance dataset\n",
    "from sklearn.model_selection import KFold\n",
    "\n",
    "from sklearn.model_selection import GridSearchCV\n",
    "\n",
    "import numpy as np\n"
   ]
  },
  {
   "cell_type": "code",
   "execution_count": null,
   "id": "8fe2e5a7",
   "metadata": {},
   "outputs": [],
   "source": [
    "#As we also want to do some cross validation so we should also perform hyperparameter tuning\n",
    "log_class= LogisticRegression()\n",
    "grid={'C': 10.0 **np.arange(-2,3), 'penalty':['l1','l2']}\n",
    "cv=KFold(n_splits=5, random_state=None, shuffle=False)"
   ]
  },
  {
   "cell_type": "code",
   "execution_count": null,
   "id": "97829410",
   "metadata": {},
   "outputs": [],
   "source": [
    "# train_test_split\n",
    "\n",
    "from sklearn.model_selection import train_test_split\n",
    "\n",
    "x_train, x_test, y_train, y_test= train_test_split(x,y,train_size=0.7)"
   ]
  },
  {
   "cell_type": "code",
   "execution_count": null,
   "id": "393e25cd",
   "metadata": {},
   "outputs": [],
   "source": [
    "clf= GridSearchCV(log_class, grid)"
   ]
  },
  {
   "cell_type": "code",
   "execution_count": null,
   "id": "a71f9e21",
   "metadata": {},
   "outputs": [],
   "source": [
    "clf.fit(x_train, y_train)"
   ]
  },
  {
   "cell_type": "code",
   "execution_count": null,
   "id": "da100a2f",
   "metadata": {},
   "outputs": [],
   "source": [
    "y_pred= clf.predict(x_test)\n",
    "print(confusion_matrix(y_test, y_pred))\n",
    "print(accuracy_score(y_test, y_pred))\n",
    "print(classification_report(y_test,y_pred))\n",
    "\n",
    "#Accuracy is 99 that's why we don;t believe in accuracy in imbalanced dataset"
   ]
  },
  {
   "cell_type": "code",
   "execution_count": null,
   "id": "97098a30",
   "metadata": {},
   "outputs": [],
   "source": [
    "# Now let's try to apply Random Forest(It's mostly gives better result)\n",
    "\n",
    "from sklearn.ensemble import RandomForestClassifier\n",
    "classifier= RandomForestClassifier()"
   ]
  },
  {
   "cell_type": "code",
   "execution_count": null,
   "id": "999e39dd",
   "metadata": {},
   "outputs": [],
   "source": []
  },
  {
   "cell_type": "code",
   "execution_count": null,
   "id": "2960319d",
   "metadata": {},
   "outputs": [],
   "source": [
    "\n",
    "classifier.fit(x_train, y_train)\n",
    "y_pred= classifier.predict(x_test)\n",
    "print(confusion_matrix(y_test, y_pred))\n",
    "print(accuracy_score(y_test, y_pred))\n",
    "print(classification_report(y_test,y_pred))\n"
   ]
  },
  {
   "cell_type": "code",
   "execution_count": null,
   "id": "6411bad8",
   "metadata": {},
   "outputs": [],
   "source": [
    "# In Random forest we can also assign the class weight to give importance to any class"
   ]
  },
  {
   "cell_type": "code",
   "execution_count": null,
   "id": "29116ed7",
   "metadata": {},
   "outputs": [],
   "source": [
    "x_train.shape"
   ]
  },
  {
   "cell_type": "code",
   "execution_count": null,
   "id": "2d7240b9",
   "metadata": {},
   "outputs": [],
   "source": [
    "y_train.value_counts()"
   ]
  },
  {
   "cell_type": "code",
   "execution_count": null,
   "id": "f5b8ef95",
   "metadata": {},
   "outputs": [],
   "source": [
    "# So we should increase the class weight of 1\n",
    "\n",
    "344*70"
   ]
  },
  {
   "cell_type": "code",
   "execution_count": null,
   "id": "1ce4b727",
   "metadata": {},
   "outputs": [],
   "source": [
    "# we are assigning weight to 0-->1 and 1-->100\n",
    "\n",
    "class_weight= dict({0:1, 1:100})"
   ]
  },
  {
   "cell_type": "code",
   "execution_count": null,
   "id": "58ff3b0b",
   "metadata": {},
   "outputs": [],
   "source": [
    "classifier= RandomForestClassifier(class_weight=class_weight)\n",
    "classifier.fit(x_train, y_train)"
   ]
  },
  {
   "cell_type": "code",
   "execution_count": null,
   "id": "1f6b8918",
   "metadata": {},
   "outputs": [],
   "source": [
    "y_pred= classifier.predict(x_test)\n",
    "print(confusion_matrix(y_test, y_pred))\n",
    "print(accuracy_score(y_test, y_pred))\n",
    "print(classification_report(y_test,y_pred))"
   ]
  },
  {
   "cell_type": "code",
   "execution_count": null,
   "id": "2690ee59",
   "metadata": {},
   "outputs": [],
   "source": []
  },
  {
   "cell_type": "markdown",
   "id": "93ac4ca6",
   "metadata": {},
   "source": [
    "## Under Sampling\n",
    "\n",
    "0--100000\n",
    "1--100\n",
    "\n",
    "So by under sampling reduce the points of the maximum labels\n",
    "so here we try to reduce 0-100000 point\n",
    "\n",
    "**There are alot disadvatages of this tech, we generally don't use this, there is loss of data**\n",
    "we can only use in one cond when we have very small data\n"
   ]
  },
  {
   "cell_type": "code",
   "execution_count": null,
   "id": "609cc435",
   "metadata": {},
   "outputs": [],
   "source": [
    "from collections import Counter"
   ]
  },
  {
   "cell_type": "code",
   "execution_count": null,
   "id": "bb89a826",
   "metadata": {},
   "outputs": [],
   "source": [
    "from imblearn.under_sampling import NearMiss\n",
    "\n",
    "ns=NearMiss(0.8)\n",
    "\n",
    "x_train_ns, y_train_ns= ns.fit_resample(x_train, y_train)"
   ]
  },
  {
   "cell_type": "code",
   "execution_count": null,
   "id": "d25b5818",
   "metadata": {},
   "outputs": [],
   "source": [
    "print(\"The no of class before fir{}\".format(Counter(y_train)))\n",
    "print(\"The no of class after fir{}\".format(Counter(y_train_ns)))\n"
   ]
  },
  {
   "cell_type": "code",
   "execution_count": null,
   "id": "f6d5367c",
   "metadata": {},
   "outputs": [],
   "source": [
    "# This dividation use\n",
    "(430*80)/100"
   ]
  },
  {
   "cell_type": "code",
   "execution_count": null,
   "id": "64eb1b15",
   "metadata": {},
   "outputs": [],
   "source": [
    "classifier= RandomForestClassifier()\n",
    "classifier.fit(x_train_ns, y_train_ns)\n",
    "\n"
   ]
  },
  {
   "cell_type": "code",
   "execution_count": null,
   "id": "5cb0b9b7",
   "metadata": {},
   "outputs": [],
   "source": [
    "# Very bad accuracy that'swe don't use this technique\n",
    "\n",
    "y_pred= classifier.predict(x_test)\n",
    "\n",
    "print(confusion_matrix(y_test, y_pred))\n",
    "print(accuracy_score(y_test, y_pred))\n",
    "print(classification_report(y_test,y_pred))\n"
   ]
  },
  {
   "cell_type": "code",
   "execution_count": null,
   "id": "558d4b68",
   "metadata": {},
   "outputs": [],
   "source": []
  },
  {
   "cell_type": "markdown",
   "id": "162c1dbe",
   "metadata": {},
   "source": [
    "# Over Sampling\n",
    "\n",
    "\n",
    "Here whichever class have less value we will increase the count of that value\n",
    "\n",
    "It base on nearest feature create new features"
   ]
  },
  {
   "cell_type": "code",
   "execution_count": null,
   "id": "c073f0ee",
   "metadata": {},
   "outputs": [],
   "source": [
    "from imblearn.over_sampling import RandomOverSampler"
   ]
  },
  {
   "cell_type": "code",
   "execution_count": null,
   "id": "5e4d862c",
   "metadata": {},
   "outputs": [],
   "source": [
    "os= RandomOverSampler(0.5)\n",
    "x_train_ns, y_train_ns= os.fit_resample(x_train, y_train)\n",
    "print(\"The no of class before fir{}\".format(Counter(y_train)))\n",
    "print(\"The no of class after fir{}\".format(Counter(y_train_ns)))"
   ]
  },
  {
   "cell_type": "code",
   "execution_count": null,
   "id": "d89d2260",
   "metadata": {},
   "outputs": [],
   "source": [
    "classifier= RandomForestClassifier()\n",
    "classifier.fit(x_train_ns, y_train_ns)"
   ]
  },
  {
   "cell_type": "code",
   "execution_count": null,
   "id": "ab108b3d",
   "metadata": {},
   "outputs": [],
   "source": [
    "y_pred= classifier.predict(x_test)\n",
    "\n",
    "print(confusion_matrix(y_test, y_pred))\n",
    "print(accuracy_score(y_test, y_pred))\n",
    "print(classification_report(y_test,y_pred))"
   ]
  },
  {
   "cell_type": "code",
   "execution_count": null,
   "id": "f73cf6cd",
   "metadata": {},
   "outputs": [],
   "source": []
  },
  {
   "cell_type": "markdown",
   "id": "df006f0f",
   "metadata": {},
   "source": [
    "# SMOTE Tomek \n",
    "\n",
    "It create more point of lower class"
   ]
  },
  {
   "cell_type": "code",
   "execution_count": null,
   "id": "5b481af8",
   "metadata": {},
   "outputs": [],
   "source": [
    "from imblearn.combine import SMOTETomek"
   ]
  },
  {
   "cell_type": "code",
   "execution_count": null,
   "id": "17345363",
   "metadata": {},
   "outputs": [],
   "source": [
    "os= SMOTETomek(0.75)\n",
    "x_train_ns, y_train_ns= os.fit_resample(x_train, y_train)\n",
    "print(\"The no of class before fir{}\".format(Counter(y_train)))\n",
    "print(\"The no of class after fir{}\".format(Counter(y_train_ns)))"
   ]
  },
  {
   "cell_type": "code",
   "execution_count": null,
   "id": "42ae74b0",
   "metadata": {},
   "outputs": [],
   "source": [
    "classifier= RandomForestClassifier()\n",
    "classifier.fit(x_train_ns, y_train_ns)"
   ]
  },
  {
   "cell_type": "code",
   "execution_count": null,
   "id": "b7665d84",
   "metadata": {},
   "outputs": [],
   "source": [
    "y_pred= classifier.predict(x_test)\n",
    "\n",
    "print(confusion_matrix(y_test, y_pred))\n",
    "print(accuracy_score(y_test, y_pred))\n",
    "print(classification_report(y_test,y_pred))"
   ]
  },
  {
   "cell_type": "code",
   "execution_count": null,
   "id": "db19006b",
   "metadata": {},
   "outputs": [],
   "source": []
  }
 ],
 "metadata": {
  "kernelspec": {
   "display_name": "Python 3",
   "language": "python",
   "name": "python3"
  },
  "language_info": {
   "codemirror_mode": {
    "name": "ipython",
    "version": 3
   },
   "file_extension": ".py",
   "mimetype": "text/x-python",
   "name": "python",
   "nbconvert_exporter": "python",
   "pygments_lexer": "ipython3",
   "version": "3.7.3"
  }
 },
 "nbformat": 4,
 "nbformat_minor": 5
}
